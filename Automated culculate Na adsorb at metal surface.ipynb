{
 "cells": [
  {
   "cell_type": "code",
   "execution_count": 1,
   "metadata": {},
   "outputs": [],
   "source": [
    "from ase.build import root_surface,surface\n",
    "from ase.io.cif import read_cif\n",
    "from ase import Atoms\n",
    "from ase.build import surface, bulk, fcc111\n",
    "from ase.db import connect\n",
    "from ase.build import add_adsorbate\n",
    "from ase.constraints import FixAtoms\n",
    "from pymatgen.core.structure import Structure\n",
    "from pymatgen.core.surface import SlabGenerator\n",
    "from pymatgen.io.ase import AseAtomsAdaptor\n",
    "from pymatgen.ext.matproj import MPRester\n",
    "from pymatgen.symmetry.analyzer import SpacegroupAnalyzer\n",
    "from pymatgen.core.surface import SlabGenerator\n",
    "from pymatgen.analysis.adsorption import AdsorbateSiteFinder\n",
    "from pymatgen.analysis.local_env import VoronoiNN\n",
    "from ase.build import molecule\n",
    "from ase.db import connect\n",
    "from pymatgen.core.structure import Molecule\n",
    "from ase.calculators.vasp import Vasp\n",
    "from ase.io.vasp import write_vasp\n",
    "from ase.geometry import get_layers"
   ]
  },
  {
   "cell_type": "code",
   "execution_count": null,
   "metadata": {},
   "outputs": [],
   "source": [
    "import os\n",
    "import shutil\n",
    "site_name = ['ontop', 'bridge','fcc','hcp']\n",
    "symbol = ['Cu','Al']\n",
    "clean_slab = connect('clean_slab.db')\n",
    "add_slab = connect('add_slab.db')\n",
    "for sym in symbol:\n",
    "    cu111 = fcc111(sym,(3,3,6), vacuum=15, periodic=True)\n",
    "    clean_slab.write(cu111)\n",
    "    for site in site_name: \n",
    "        a = add_adsorbate(cu111,'Na',1.5,'ontop')\n",
    "        cu111.center()\n",
    "        layer = get_layers(cu111,(0,0,1),tolerance=0.1)[0]\n",
    "        index = [j for j in range(len(cu111)) if layer[j] in range(4)]\n",
    "        constrain = FixAtoms(indices=index)\n",
    "        cu111.set_constraint(constrain)\n",
    "        add_slab.write(cu111)\n",
    "        cwd = os.getcwd()\n",
    "        dirname = \"{}POSCAR_{}\".format(sym,site)\n",
    "        path = os.path.join(cwd,dirname)\n",
    "        calc = Vasp(prec = 'Accurate',\n",
    "            directory=path,\n",
    "            xc = 'PBE',\n",
    "            kpts = [3,3,1],\n",
    "            gamma = True,\n",
    "            lreal = False,\n",
    "            isif = 2,\n",
    "            ispin = 2,\n",
    "            ibrion = 2,\n",
    "            potim = 0.2,\n",
    "            ediff = 0.00001,\n",
    "            ismear = 1,\n",
    "            sigma = 0.2,\n",
    "            nsw = 500,\n",
    "            nelm = 60,\n",
    "            encut = 500)\n",
    "        cu111.calc = calc\n",
    "        cu111.get_potential_energy()\n",
    "        add_slab.write(cu111, name = dirname)"
   ]
  },
  {
   "cell_type": "code",
   "execution_count": null,
   "metadata": {},
   "outputs": [],
   "source": []
  }
 ],
 "metadata": {
  "kernelspec": {
   "display_name": "Python 3",
   "language": "python",
   "name": "python3"
  },
  "language_info": {
   "codemirror_mode": {
    "name": "ipython",
    "version": 3
   },
   "file_extension": ".py",
   "mimetype": "text/x-python",
   "name": "python",
   "nbconvert_exporter": "python",
   "pygments_lexer": "ipython3",
   "version": "3.8.5"
  }
 },
 "nbformat": 4,
 "nbformat_minor": 4
}
