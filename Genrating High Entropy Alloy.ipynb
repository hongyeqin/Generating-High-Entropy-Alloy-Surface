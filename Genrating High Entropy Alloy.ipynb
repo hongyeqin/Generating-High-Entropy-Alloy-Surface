{
 "cells": [
  {
   "cell_type": "code",
   "execution_count": 3,
   "metadata": {},
   "outputs": [],
   "source": [
    "import numpy as np\n",
    "from ase.build import fcc111\n",
    "from ase import *\n",
    "from ase.constraints import FixAtoms\n",
    "from ase.io import write\n",
    "from ase.build import sort\n",
    "from ase.calculators.vasp import Vasp\n",
    "import os, sys"
   ]
  },
  {
   "cell_type": "code",
   "execution_count": 19,
   "metadata": {},
   "outputs": [],
   "source": [
    "\"\"\"Generating three elements alloy, you can change code to generate High Entropy Alloy by adding l m n at the \n",
    "end of code\"\"\"\n",
    "def random_alloy_structure(num_structure=10, host='Au', impurityPd='Pd', impurityNi='Ni', Pdconcentration_impurity=0.2,Niconcentration_impurity=0.3): #TODO list : controlled by output\n",
    "    random_st = []\n",
    "    for i in range(num_structure):\n",
    "       #seed=3001223+i*100 # should be gently controlled TODO list : finding best number\n",
    "        latticeconstant = 3.6\n",
    "        model=fcc111(host, size=(3,3,4), a=latticeconstant, vacuum=6.0, orthogonal=False) #TODO list : surface structure controlled by output\n",
    "        c = FixAtoms(mask=[x >2   for x in model.get_tags()])\n",
    "        model.set_constraint(c)\n",
    "\n",
    "        elements=model.get_chemical_symbols()\n",
    "        num_atom=model.get_number_of_atoms()\n",
    "    \n",
    "\n",
    "        Pdnum_impurity=np.round(num_atom*Pdconcentration_impurity)\n",
    "        Ninum_impurity=np.round(num_atom*Niconcentration_impurity)\n",
    "        \n",
    "       # np.random.seed(seed)\n",
    "\n",
    "        j=0\n",
    "        while j < int(Pdnum_impurity):\n",
    "            r=np.random.rand()\n",
    "            n=int(np.round(r*num_atom-1))\n",
    "            if elements[n]==host:\n",
    "                elements[n]=impurityPd\n",
    "                j=j+1\n",
    "        model.set_chemical_symbols(elements)\n",
    "        k=0\n",
    "        while k < int(Ninum_impurity):\n",
    "            r=np.random.rand()\n",
    "            n=int(np.round(r*num_atom-1))\n",
    "            if elements[n]==host:\n",
    "                elements[n]=impurityNi\n",
    "                k=k+1\n",
    "        model.set_chemical_symbols(elements)\n",
    "        \"\"\"\n",
    "        You can generate four(AuPdNiX) elements alloy like below example\n",
    "        l=0\n",
    "        while k < int(Xnum_impurity):\n",
    "            r=np.random.rand()\n",
    "            n=int(np.round(r*num_atom-1))\n",
    "            if elements[n]==host:\n",
    "                elements[n]=impurityX\n",
    "                k=k+1\n",
    "        model.set_chemical_symbols(elements)\n",
    "        \"\"\"\n",
    "        \n",
    "        \n",
    "        model=sort(model)\n",
    "        write('POSCAR_'+str(i),model,format='vasp',direct=True)\n"
   ]
  },
  {
   "cell_type": "code",
   "execution_count": 20,
   "metadata": {},
   "outputs": [],
   "source": [
    "random_alloy_structure()"
   ]
  },
  {
   "cell_type": "code",
   "execution_count": null,
   "metadata": {},
   "outputs": [],
   "source": []
  }
 ],
 "metadata": {
  "kernelspec": {
   "display_name": "Python 3",
   "language": "python",
   "name": "python3"
  },
  "language_info": {
   "codemirror_mode": {
    "name": "ipython",
    "version": 3
   },
   "file_extension": ".py",
   "mimetype": "text/x-python",
   "name": "python",
   "nbconvert_exporter": "python",
   "pygments_lexer": "ipython3",
   "version": "3.8.5"
  }
 },
 "nbformat": 4,
 "nbformat_minor": 4
}
